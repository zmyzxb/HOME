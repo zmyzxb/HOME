{
 "cells": [
  {
   "cell_type": "code",
   "execution_count": 1,
   "metadata": {},
   "outputs": [
    {
     "name": "stdout",
     "output_type": "stream",
     "text": [
      "/media/z/zMy/argoverse-api/map_files\n"
     ]
    }
   ],
   "source": [
    "import numpy as np\n",
    "import torch\n",
    "from torch.utils.data import Dataset\n",
    "from scipy import sparse\n",
    "import os\n",
    "import copy\n",
    "from argoverse.data_loading.argoverse_forecasting_loader import ArgoverseForecastingLoader\n",
    "from argoverse.map_representation.map_api import ArgoverseMap\n",
    "from skimage.transform import rotate\n",
    "\n"
   ]
  },
  {
   "cell_type": "code",
   "execution_count": 2,
   "metadata": {},
   "outputs": [],
   "source": [
    "config = dict()\n",
    "config['data_dir'] = dict()\n",
    "config['data_dir']['train'] = 'dataset/train/data'\n",
    "config['pred_range'] = 40 "
   ]
  },
  {
   "cell_type": "code",
   "execution_count": 4,
   "metadata": {},
   "outputs": [
    {
     "ename": "SyntaxError",
     "evalue": "invalid syntax (719328813.py, line 21)",
     "output_type": "error",
     "traceback": [
      "\u001b[0;36m  File \u001b[0;32m\"/tmp/ipykernel_133217/719328813.py\"\u001b[0;36m, line \u001b[0;32m21\u001b[0m\n\u001b[0;31m    def get_center\u001b[0m\n\u001b[0m                  ^\u001b[0m\n\u001b[0;31mSyntaxError\u001b[0m\u001b[0;31m:\u001b[0m invalid syntax\n"
     ]
    }
   ],
   "source": [
    "class ArgoDataset(Dataset):\n",
    "    def __init__(self, split, config):\n",
    "        self.config = config\n",
    "        self.avl = ArgoverseForecastingLoader(config.data_dir[split])\n",
    "        self.avl.seq_list = sorted(self.avl.seq_list)\n",
    "        self.am = ArgoverseMap()\n",
    "            \n",
    "    def __getitem__(self, idx):\n",
    "        data = self.read_argo_data(idx)\n",
    "        data = self.get_obj_feats(data)\n",
    "        data['idx'] = idx\n",
    "        data['graph'] = self.get_lane_graph(data)\n",
    "        return data\n",
    "    \n",
    "    def __len__(self):\n",
    "        if 'preprocess' in self.config and self.config['preprocess']:\n",
    "            return len(self.split)\n",
    "        else:\n",
    "            return len(self.avl)\n",
    "\n",
    "    def get_center\n",
    "\n",
    "    def read_argo_data(self, idx):\n",
    "        city = copy.deepcopy(self.avl[idx].city)\n",
    "\n",
    "        \"\"\"TIMESTAMP,TRACK_ID,OBJECT_TYPE,X,Y,CITY_NAME\"\"\"\n",
    "        df = copy.deepcopy(self.avl[idx].seq_df)\n",
    "        \n",
    "        agt_ts = np.sort(np.unique(df['TIMESTAMP'].values))\n",
    "        mapping = dict()\n",
    "        for i, ts in enumerate(agt_ts):\n",
    "            mapping[ts] = i\n",
    "\n",
    "        trajs = np.concatenate((\n",
    "            df.X.to_numpy().reshape(-1, 1),\n",
    "            df.Y.to_numpy().reshape(-1, 1)), 1)\n",
    "        \n",
    "        steps = [mapping[x] for x in df['TIMESTAMP'].values]\n",
    "        steps = np.asarray(steps, np.int64)\n",
    "\n",
    "        objs = df.groupby(['TRACK_ID', 'OBJECT_TYPE']).groups\n",
    "        keys = list(objs.keys())\n",
    "        obj_type = [x[1] for x in keys]\n",
    "\n",
    "        agt_idx = obj_type.index('AGENT')\n",
    "        idcs = objs[keys[agt_idx]]\n",
    "       \n",
    "        agt_traj = trajs[idcs]\n",
    "        agt_step = steps[idcs]\n",
    "\n",
    "        del keys[agt_idx]\n",
    "        ctx_trajs, ctx_steps = [], []\n",
    "        for key in keys:\n",
    "            idcs = objs[key]\n",
    "            ctx_trajs.append(trajs[idcs])\n",
    "            ctx_steps.append(steps[idcs])\n",
    "\n",
    "        data = dict()\n",
    "        data['city'] = city\n",
    "        data['trajs'] = [agt_traj] + ctx_trajs\n",
    "        data['steps'] = [agt_step] + ctx_steps\n",
    "        return data\n",
    "    \n",
    "    def get_obj_feats(self, data):\n",
    "        orig = data['trajs'][0][19].copy().astype(np.float32)\n",
    "\n",
    "        if self.train and self.config['rot_aug']:\n",
    "            theta = np.random.rand() * np.pi * 2.0\n",
    "        else:\n",
    "            pre = data['trajs'][0][18] - orig\n",
    "            theta = np.pi - np.arctan2(pre[1], pre[0])\n",
    "\n",
    "        rot = np.asarray([\n",
    "            [np.cos(theta), -np.sin(theta)],\n",
    "            [np.sin(theta), np.cos(theta)]], np.float32)\n",
    "\n",
    "        feats, ctrs, gt_preds, has_preds = [], [], [], []\n",
    "        for traj, step in zip(data['trajs'], data['steps']):\n",
    "            if 19 not in step:\n",
    "                continue\n",
    "\n",
    "            gt_pred = np.zeros((30, 2), np.float32)\n",
    "            has_pred = np.zeros(30, np.bool)\n",
    "            future_mask = np.logical_and(step >= 20, step < 50)\n",
    "            post_step = step[future_mask] - 20\n",
    "            post_traj = traj[future_mask]\n",
    "            gt_pred[post_step] = post_traj\n",
    "            has_pred[post_step] = 1\n",
    "            \n",
    "            obs_mask = step < 20\n",
    "            step = step[obs_mask]\n",
    "            traj = traj[obs_mask]\n",
    "            idcs = step.argsort()\n",
    "            step = step[idcs]\n",
    "            traj = traj[idcs]\n",
    "            \n",
    "            for i in range(len(step)):\n",
    "                if step[i] == 19 - (len(step) - 1) + i:\n",
    "                    break\n",
    "            step = step[i:]\n",
    "            traj = traj[i:]\n",
    "\n",
    "            feat = np.zeros((20, 3), np.float32)\n",
    "            feat[step, :2] = np.matmul(rot, (traj - orig.reshape(-1, 2)).T).T\n",
    "            feat[step, 2] = 1.0\n",
    "\n",
    "            x_min, x_max, y_min, y_max = self.config['pred_range']\n",
    "            if feat[-1, 0] < x_min or feat[-1, 0] > x_max or feat[-1, 1] < y_min or feat[-1, 1] > y_max:\n",
    "                continue\n",
    "\n",
    "            ctrs.append(feat[-1, :2].copy())\n",
    "            feat[1:, :2] -= feat[:-1, :2]\n",
    "            feat[step[0], :2] = 0\n",
    "            feats.append(feat)\n",
    "            gt_preds.append(gt_pred)\n",
    "            has_preds.append(has_pred)\n",
    "\n",
    "        feats = np.asarray(feats, np.float32)\n",
    "        ctrs = np.asarray(ctrs, np.float32)\n",
    "        gt_preds = np.asarray(gt_preds, np.float32)\n",
    "        has_preds = np.asarray(has_preds, np.bool)\n",
    "\n",
    "        data['feats'] = feats\n",
    "        data['ctrs'] = ctrs\n",
    "        data['orig'] = orig\n",
    "        data['theta'] = theta\n",
    "        data['rot'] = rot\n",
    "        data['gt_preds'] = gt_preds\n",
    "        data['has_preds'] = has_preds\n",
    "        return data\n",
    "\n",
    " \n",
    "    def get_lane_graph(self, data):\n",
    "        \"\"\"Get a rectangle area defined by pred_range.\"\"\"\n",
    "        x_min, x_max, y_min, y_max = self.config['pred_range']\n",
    "        radius = max(abs(x_min), abs(x_max)) + max(abs(y_min), abs(y_max))\n",
    "        lane_ids = self.am.get_lane_ids_in_xy_bbox(data['orig'][0], data['orig'][1], data['city'], radius)\n",
    "        lane_ids = copy.deepcopy(lane_ids)\n",
    "        \n",
    "     \n",
    "\n",
    "a = ArgoDataset('train',config)"
   ]
  },
  {
   "cell_type": "code",
   "execution_count": 5,
   "metadata": {},
   "outputs": [],
   "source": [
    "split='train'\n",
    "avl = ArgoverseForecastingLoader(config['data_dir'][split])\n",
    "avl.seq_list = sorted(avl.seq_list)\n",
    "am = ArgoverseMap()"
   ]
  },
  {
   "cell_type": "code",
   "execution_count": 6,
   "metadata": {},
   "outputs": [],
   "source": [
    "import json\n",
    "config_file = open('config.json')\n",
    "config = json.load(config_file)"
   ]
  },
  {
   "cell_type": "code",
   "execution_count": 7,
   "metadata": {},
   "outputs": [],
   "source": [
    "def contain_pt(pt, size):\n",
    "    return pt[0] >= 0 and pt[0] < size \\\n",
    "            and pt[0] >= 0 and pt[1] < size"
   ]
  },
  {
   "cell_type": "code",
   "execution_count": null,
   "metadata": {},
   "outputs": [],
   "source": [
    "d"
   ]
  },
  {
   "cell_type": "code",
   "execution_count": 8,
   "metadata": {},
   "outputs": [],
   "source": [
    "l = config['pred_range']\n",
    "gap = config['image_pixel_size']\n",
    "img_sz = len(np.arange(-l,l,gap))\n",
    "img = np.zeros((img_sz,img_sz,45),dtype='float64')\n",
    "\n",
    "id = 0\n",
    "df = copy.deepcopy(avl[0].seq_df)\n",
    "\n",
    "timestamp = np.sort(np.unique(df['TIMESTAMP'].values))\n",
    "\n",
    "agent_traj = df[df['OBJECT_TYPE']=='AGENT'][['X','Y']].values\n",
    "\n",
    "center = agent_traj[-1,:]\n",
    "\n",
    "c = 0\n",
    "for i, ts in enumerate(timestamp):\n",
    "    df_i = df[df['TIMESTAMP']==ts]\n",
    "    for _, row in df_i.iterrows():\n",
    "        position = row[['X','Y']].values\n",
    "        obj_type = row['OBJECT_TYPE']\n",
    "        img_position = np.rint(((position - center + l) / gap).astype('float64')) \\\n",
    "        .astype('int').tolist()\n",
    "        \n",
    "        if contain_pt(img_position, img_sz):\n",
    "            channel = i if obj_type == 'AGENT' else i + 20\n",
    "            img[tuple(img_position)][0] += 1\n",
    "            c += 1\n",
    "    #time_map[ts] = i\n",
    "\n",
    "\n",
    "#print(df[df['OBJECT_TYPE']=='OTHERS'])32\n",
    "\n",
    "\n",
    "#for i in range(20):\n"
   ]
  },
  {
   "cell_type": "code",
   "execution_count": 53,
   "metadata": {},
   "outputs": [],
   "source": [
    "from shapely.geometry.polygon import Polygon, Point\n",
    "from operator import or_\n",
    "from functools import reduce\n",
    "import cv2\n",
    "l = 56\n",
    "#driveable area\n",
    "\n",
    "lane_ids = am.get_lane_ids_in_xy_bbox(center[0], center[1], 'PIT', 50)\n",
    "polygons = am.find_local_driveable_areas([center[0]-l,center[0]+l,center[1]-l,center[1]+l],'PIT')\n",
    "\n",
    "img_driveable_area = np.zeros((img_sz,img_sz),dtype='float64')\n",
    "img_lane_boundaries = np.zeros((img_sz,img_sz),dtype='float64')\n",
    "img_centerline = np.zeros((3,img_sz,img_sz),dtype='float64')\n",
    "\n",
    "for i in polygons:\n",
    "    for point in i:\n",
    "        img_position = np.rint(((point[0:2] - center + l) / gap).astype('float64')) \\\n",
    "        .astype('int').tolist()\n",
    "        #img_driveable_area[] += 1\n",
    "        if contain_pt(img_position, img_sz):\n",
    "            img_driveable_area[tuple(img_position)] = 1\n",
    "\n",
    "'''\n",
    "import queue\n",
    "que = queue.Queue()\n",
    "center_img_position = np.rint(np.array([l,l]) / gap).astype('int')\n",
    "que.put(center_img_position)\n",
    "img_driveable_area[tuple(center_img_position)] = 255\n",
    "deltas = np.array([[1,0],[-1,0],[0,1],[0,-1]])\n",
    "\n",
    "while not que.empty():\n",
    "    img_position = que.get()\n",
    "    for delta in deltas:\n",
    "        new_img_position = img_position + delta\n",
    "        #print(img_driveable_area[new_img_position])\n",
    "        if contain_pt(new_img_position, img_sz) and \\\n",
    "            img_driveable_area[tuple(new_img_position)] == 0:\n",
    "            que.put(new_img_position)\n",
    "            #print(new_img_position)\n",
    "            img_driveable_area[tuple(new_img_position)] = 255\n",
    "\n",
    "\n",
    "'''\n",
    "#centerline and lane_boundaries\n",
    "for lane_id in lane_ids:\n",
    "    lane = am.city_lane_centerlines_dict['PIT'][lane_id]\n",
    "    #print(lane.centerline)\n",
    "    centerline = lane.centerline\n",
    "    vector = centerline[-1] - centerline[0]\n",
    "    line_mid = (centerline[-1] + centerline[0]) / 2\n",
    "    \n",
    "    polygon = am.get_lane_segment_polygon(lane_id, 'PIT')\n",
    "    for pt in polygon:\n",
    "        img_position = np.rint(((pt[0:2] - center + l) / gap).astype('float64')) \\\n",
    "        .astype('int').tolist()\n",
    "        if contain_pt(img_position, img_sz):\n",
    "            img_lane_boundaries[tuple(img_position)] = 255\n",
    "    \n",
    "    line_mid_img_position = np.rint(((line_mid[0:2] - center + l) / gap).astype('float64')) \\\n",
    "        .astype('int').tolist()\n",
    "\n",
    "    turn_direction = 0\n",
    "    if lane.turn_direction == 'LEFT':\n",
    "        turn_direction = 0.5\n",
    "    elif lane.turn_direction == 'RIGHT':\n",
    "        turn_direction = 1\n",
    "    img_centerline[0,tuple(line_mid_img_position)] = turn_direction\n",
    "    \n",
    "\n",
    "    img_centerline[1:3][:,line_mid_img_position[0],line_mid_img_position[1]] = vector / np.linalg.norm(vector)\n",
    "    #print(img_centerline[1:3][:,line_mid_img_position[0],line_mid_img_position[1]].shape)\n",
    "    break\n",
    "    #print(vector/np.linalg.norm(vector))\n",
    "#t"
   ]
  },
  {
   "cell_type": "code",
   "execution_count": 27,
   "metadata": {},
   "outputs": [
    {
     "data": {
      "text/plain": [
       "array([[0., 0.],\n",
       "       [0., 1.]])"
      ]
     },
     "execution_count": 27,
     "metadata": {},
     "output_type": "execute_result"
    }
   ],
   "source": [
    "a = np.zeros((2,2))\n",
    "a[(1,1)] = 1\n",
    "a"
   ]
  },
  {
   "cell_type": "code",
   "execution_count": 64,
   "metadata": {},
   "outputs": [
    {
     "name": "stdout",
     "output_type": "stream",
     "text": [
      "tensor([[[1., 1., 1.],\n",
      "         [1., 1., 1.]]])\n"
     ]
    },
    {
     "name": "stderr",
     "output_type": "stream",
     "text": [
      "/tmp/ipykernel_133217/4030804543.py:5: UserWarning: Implicit dimension choice for softmax has been deprecated. Change the call to include dim=X as an argument.\n",
      "  print(n(a))\n"
     ]
    }
   ],
   "source": [
    "from torch import nn\n",
    "import torch\n",
    "n = nn.Softmax()\n",
    "a = torch.randn((2,3))\n",
    "print(n(a))"
   ]
  }
 ],
 "metadata": {
  "interpreter": {
   "hash": "f7a2e27da35cf18794d6b2cb17335d64664015d2b8e093437d82687cab683bfd"
  },
  "kernelspec": {
   "display_name": "Python 3.8.12 64-bit ('base': conda)",
   "name": "python3"
  },
  "language_info": {
   "codemirror_mode": {
    "name": "ipython",
    "version": 3
   },
   "file_extension": ".py",
   "mimetype": "text/x-python",
   "name": "python",
   "nbconvert_exporter": "python",
   "pygments_lexer": "ipython3",
   "version": "3.8.12"
  },
  "orig_nbformat": 4
 },
 "nbformat": 4,
 "nbformat_minor": 2
}
